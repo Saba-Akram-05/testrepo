{
  "metadata": {
    "language_info": {
      "codemirror_mode": {
        "name": "python",
        "version": 3
      },
      "file_extension": ".py",
      "mimetype": "text/x-python",
      "name": "python",
      "nbconvert_exporter": "python",
      "pygments_lexer": "ipython3",
      "version": "3.8"
    },
    "kernelspec": {
      "name": "python",
      "display_name": "Pyolite",
      "language": "python"
    }
  },
  "nbformat_minor": 4,
  "nbformat": 4,
  "cells": [
    {
      "cell_type": "markdown",
      "source": "# My Jupyter Notebook on IBM Watson Studio",
      "metadata": {}
    },
    {
      "cell_type": "markdown",
      "source": "<b>Saba Akram</b>",
      "metadata": {}
    },
    {
      "cell_type": "markdown",
      "source": "*I am in the Data Scince Field because I am intrested to build my future bright.*\n*I Also Likes to work and play with data that is why too*",
      "metadata": {}
    },
    {
      "cell_type": "markdown",
      "source": "### Iam going to simplify the problem with simple addition operator ",
      "metadata": {}
    },
    {
      "cell_type": "code",
      "source": "1+1",
      "metadata": {
        "trusted": true
      },
      "execution_count": 1,
      "outputs": [
        {
          "execution_count": 1,
          "output_type": "execute_result",
          "data": {
            "text/plain": "2"
          },
          "metadata": {}
        }
      ]
    },
    {
      "cell_type": "markdown",
      "source": "#### Number Lists upto 3\n1. Hello World\n2. I am a Student of IT\n3. I am attending course of Data Science\n\n#### Bullets List\n* Hello World\n* I am a Student of IT\n* I am attending course of Data Science\n\n#### HyperLinks\n[Adding Google with a link](https://www.google.com)\n\n#### Images \n![alt text](E:\\SABA AKRAM\\Androis tudio\\logo-icon.png \"OUr University LOGO\")\n\n#### Syntax and Highlighting \n`HEllo World. I am Here Saba Akram , student of Coursera` \n\n#### Block Qoutes \n> Hello Dear World.\n> Just Focus on your Goals.\n\n#### Strikes Through\n~~Saba Akram is Here.~~\n\n",
      "metadata": {}
    },
    {
      "cell_type": "code",
      "source": "",
      "metadata": {},
      "execution_count": null,
      "outputs": []
    }
  ]
}